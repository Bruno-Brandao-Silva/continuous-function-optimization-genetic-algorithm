{
  "cells": [
    {
      "cell_type": "markdown",
      "id": "uSdmMOThzvTD",
      "metadata": {
        "id": "uSdmMOThzvTD"
      },
      "source": [
        "**Introdução Algoritmos Genéticos**\n",
        "\n",
        "*   Exemplo de codificação binária;\n",
        "*   Calculo binário para função f(x) = x²;\n",
        "*   Seleção por torneio;\n",
        "\n",
        "**Atividade para a próxima semana:**\n",
        "*   Desenvolver o procedimento iterativo;\n",
        "*   Função de cruzamento;\n",
        "*   Função de mutação."
      ]
    },
    {
      "cell_type": "code",
      "execution_count": 1,
      "id": "3gYQJRtuG7q4",
      "metadata": {
        "id": "3gYQJRtuG7q4"
      },
      "outputs": [],
      "source": [
        "# genetic algorithm search for continuous function optimization\n",
        "from numpy.random import randint\n",
        "from numpy.random import rand"
      ]
    },
    {
      "cell_type": "code",
      "execution_count": 2,
      "id": "shpKRhH2cyGQ",
      "metadata": {
        "id": "shpKRhH2cyGQ"
      },
      "outputs": [],
      "source": [
        "# objective function\n",
        "def objective(x):\n",
        "  # convert string to integer (decimal base)\n",
        "  integer = int(x, 2)            \n",
        "  return integer\t"
      ]
    },
    {
      "cell_type": "code",
      "execution_count": 3,
      "id": "3dwoWPP1OUNc",
      "metadata": {
        "id": "3dwoWPP1OUNc"
      },
      "outputs": [],
      "source": [
        "# decode bitstring to numbers\n",
        "def decode(n_bits, bitstring):\n",
        "      decoded = list()    \n",
        "      # convert bitstring to a string of chars\n",
        "      chars = ''.join([str(s) for s in bitstring])      \n",
        "      return chars"
      ]
    },
    {
      "cell_type": "code",
      "execution_count": 4,
      "id": "ja-57Mr0OUF8",
      "metadata": {
        "id": "ja-57Mr0OUF8"
      },
      "outputs": [],
      "source": [
        "# tournament selection\n",
        "def tournament(pop, scores, k):\n",
        "    # first random selection\n",
        "    selection_ix = randint(len(pop))\n",
        "    # Generate a randon list with k-1 individuals\n",
        "    for ix in randint(0, len(pop), k - 1):\n",
        "        # check if better (e.g. perform a tournament)\n",
        "        if scores[ix] < scores[selection_ix]:\n",
        "            selection_ix = ix\n",
        "    return pop[selection_ix]\n",
        "\n",
        "\n",
        "def torneio(amostra, scores, maxQtd):\n",
        "    while len(amostra) > maxQtd:\n",
        "        while True:\n",
        "            i1, i2 = randint(0, len(amostra), 2)\n",
        "            if i1 != i2:\n",
        "                break\n",
        "        somaI1 = sum(amostra[i1])\n",
        "        somaI2 = sum(amostra[i2])\n",
        "        if somaI1 < somaI2:\n",
        "            amostra.pop(i1)\n",
        "            scores.pop(i1)\n",
        "        elif somaI1 == somaI2:\n",
        "            if scores[i1] < scores[i2]:\n",
        "                amostra.pop(i1)\n",
        "                scores.pop(i1)\n",
        "            else:\n",
        "                amostra.pop(i2)\n",
        "                scores.pop(i2)\n",
        "        else:\n",
        "            amostra.pop(i2)\n",
        "            scores.pop(i2)"
      ]
    },
    {
      "cell_type": "code",
      "execution_count": 5,
      "id": "IH79EZ2QHAlO",
      "metadata": {
        "id": "IH79EZ2QHAlO"
      },
      "outputs": [],
      "source": [
        "\n",
        "# genetic algorithm\n",
        "def genetic_algorithm(objective, n_bits, n_pop, k):\n",
        "\t# initial population of random bitstring\n",
        "\tpop = [randint(0, 2, n_bits).tolist() for _ in range(n_pop)]\n",
        "\tprint(\"Populacao inicial:\")\n",
        "\tprint(pop)\n",
        "\tfor i in pop:\n",
        "\t\tprint(i)\n",
        "\t# keep track of best solution\n",
        "\tbest, best_eval = 0, objective(decode(n_bits, pop[0]))\n",
        "\t# decode population\n",
        "\tdecoded = [decode(n_bits, p) for p in pop]    \n",
        "\t# evaluate all candidates in the population\n",
        "\tscores = [objective(d) for d in decoded]\n",
        "\t# select parents (mating pool)\n",
        "\tselected = [tournament(pop, scores, k) for _ in range(n_pop)]\t\t\n",
        "\treturn [scores, selected]"
      ]
    },
    {
      "cell_type": "code",
      "execution_count": 6,
      "id": "S9iezNU3HGU1",
      "metadata": {
        "colab": {
          "base_uri": "https://localhost:8080/",
          "height": 235
        },
        "id": "S9iezNU3HGU1",
        "outputId": "8e13b714-d424-4add-f840-feab374af627"
      },
      "outputs": [
        {
          "name": "stdout",
          "output_type": "stream",
          "text": [
            "Populacao inicial:\n",
            "[[1, 1, 0, 1, 0], [1, 1, 1, 1, 0], [0, 0, 0, 0, 1], [1, 1, 0, 0, 1], [0, 0, 1, 0, 1]]\n",
            "[1, 1, 0, 1, 0]\n",
            "[1, 1, 1, 1, 0]\n",
            "[0, 0, 0, 0, 1]\n",
            "[1, 1, 0, 0, 1]\n",
            "[0, 0, 1, 0, 1]\n",
            "Resultado apos a selecao:\n",
            "26 [0, 0, 1, 0, 1] 5\n",
            "30 [0, 0, 0, 0, 1] 1\n",
            "1 [0, 0, 1, 0, 1] 5\n",
            "25 [0, 0, 0, 0, 1] 1\n",
            "5 [0, 0, 0, 0, 1] 1\n"
          ]
        }
      ],
      "source": [
        "# bits per variable\n",
        "n_bits = 5\n",
        "# define the population size\n",
        "n_pop = 5\n",
        "# tornament selection k\n",
        "k = 3\n",
        "# perform the genetic algorithm search\n",
        "fitness,tourSelec = genetic_algorithm(objective,n_bits, n_pop, k)\n",
        "selectFit = []\n",
        "for i in tourSelec:\n",
        "  selectFit.append(objective(decode(n_bits,i)))\n",
        "\n",
        "print(\"Resultado apos a selecao:\")\n",
        "for x, y, z in zip(fitness, tourSelec, selectFit):  \n",
        "  print(x,y,z)"
      ]
    },
    {
      "cell_type": "code",
      "execution_count": 7,
      "id": "2971ab7b",
      "metadata": {},
      "outputs": [],
      "source": [
        "geracao = 0\n",
        "mut = 0\n",
        "\n",
        "\n",
        "def crossOver(individuo_1, individuo_2):\n",
        "    ponto_de_corte = randint(1, len(individuo_1) - 1)\n",
        "    filho_1 = individuo_1[:ponto_de_corte] + individuo_2[ponto_de_corte:]\n",
        "    filho_2 = individuo_2[:ponto_de_corte] + individuo_1[ponto_de_corte:]\n",
        "    return filho_1, filho_2\n",
        "\n",
        "\n",
        "def mutacao(individuo, probabilidade_de_mutacao):\n",
        "    global mut\n",
        "    stts = False\n",
        "    for i in range(len(individuo)):\n",
        "        if rand() <= probabilidade_de_mutacao:\n",
        "            stts = True\n",
        "            individuo[i] = 1 if individuo[i] == 0 else 0\n",
        "    if stts:\n",
        "        mut += 1\n",
        "    return individuo\n",
        "\n",
        "\n",
        "def iteracao(amostra, probabilidade_de_mutacao):\n",
        "    nova_amostra = []\n",
        "    for i in range(len(amostra)):\n",
        "        filho_1, filho_2 = crossOver(amostra[i], amostra[(i - len(amostra) + 1)])\n",
        "        nova_amostra.append(filho_1)\n",
        "        nova_amostra.append(filho_2)\n",
        "    for i in nova_amostra:\n",
        "        i = mutacao(i, probabilidade_de_mutacao)\n",
        "    return nova_amostra\n",
        "\n",
        "\n",
        "def recursao(amostra, probabilidade_de_mutacao=0.01, iteracoes=-1):\n",
        "    global geracao\n",
        "    geracao += 1\n",
        "    amostra = iteracao(amostra, probabilidade_de_mutacao)\n",
        "    fit = []\n",
        "    for i in amostra:\n",
        "        fit.append(objective(decode(n_bits, i)))\n",
        "    torneio(amostra, fit, 5)\n",
        "    # print(\"Resultado apos a selecao:\")\n",
        "    # for y, z in zip(amostra, fit):\n",
        "    #     print(y, z)\n",
        "    if max(fit) != 31 and (iteracoes == -1 or iteracoes > 0):\n",
        "        del fit\n",
        "        recursao(amostra)\n",
        "    else:\n",
        "        print(\"Geração final: \")\n",
        "        for y, z in zip(amostra, fit):\n",
        "            print(y, z)\n"
      ]
    },
    {
      "cell_type": "code",
      "execution_count": 8,
      "id": "a7a93304",
      "metadata": {},
      "outputs": [
        {
          "name": "stdout",
          "output_type": "stream",
          "text": [
            "Geranção 0:\n",
            "[0, 0, 1, 0, 1] 5\n",
            "[0, 0, 0, 0, 1] 1\n",
            "[0, 0, 1, 0, 1] 5\n",
            "[0, 0, 0, 0, 1] 1\n",
            "[0, 0, 0, 0, 1] 1\n",
            "Geração final: \n",
            "[0, 1, 1, 0, 1] 13\n",
            "[1, 1, 1, 0, 1] 29\n",
            "[1, 1, 1, 0, 1] 29\n",
            "[1, 1, 1, 1, 1] 31\n",
            "[0, 1, 1, 0, 1] 13\n",
            "Geracao:  17\n",
            "Mutacao:  6\n"
          ]
        }
      ],
      "source": [
        "\n",
        "print(\"Geranção 0:\")\n",
        "for y, z in zip(tourSelec, selectFit):\n",
        "        print(y, z)\n",
        "recursao(tourSelec)\n",
        "print (\"Geracao: \", geracao)\n",
        "print (\"Mutacao: \", mut)"
      ]
    }
  ],
  "metadata": {
    "colab": {
      "collapsed_sections": [],
      "provenance": []
    },
    "kernelspec": {
      "display_name": "Python 3.8.10 64-bit (microsoft store)",
      "language": "python",
      "name": "python3"
    },
    "language_info": {
      "codemirror_mode": {
        "name": "ipython",
        "version": 3
      },
      "file_extension": ".py",
      "mimetype": "text/x-python",
      "name": "python",
      "nbconvert_exporter": "python",
      "pygments_lexer": "ipython3",
      "version": "3.12.1"
    },
    "vscode": {
      "interpreter": {
        "hash": "10d2f525b5d04a96b21e5b0127e4980144951deae166830ef2f6646032acc3cf"
      }
    }
  },
  "nbformat": 4,
  "nbformat_minor": 5
}
